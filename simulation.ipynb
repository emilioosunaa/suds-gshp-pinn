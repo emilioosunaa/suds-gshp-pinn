{
 "cells": [
  {
   "cell_type": "markdown",
   "metadata": {},
   "source": [
    "## **Surrogate modelling to design a digital twin for ground source heat exchangers**\n",
    "\n",
    "Author: Emilio Osuna"
   ]
  },
  {
   "cell_type": "markdown",
   "metadata": {},
   "source": [
    "Data exploration is done in `data_exploration.ipynb`"
   ]
  },
  {
   "cell_type": "code",
   "execution_count": 1,
   "metadata": {},
   "outputs": [],
   "source": [
    "import torch\n",
    "import torch.nn as nn\n",
    "import torch.optim as optim\n",
    "import numpy as np"
   ]
  },
  {
   "cell_type": "markdown",
   "metadata": {},
   "source": [
    "The purpose of this notebook is to perform the simulations of a surrogate model based on [Yildiz & Stirling, 2022](https://doi.org/10.1016/j.geothermics.2022.102351), where a finite difference model is used to predict soil temperature.\n",
    "\n",
    "The governing PDE model is a transient heat conduction equation:\n",
    "\n",
    "\\begin{equation}\n",
    "    \\frac{\\partial T}{\\partial t} = \\alpha \\frac{\\partial^2 T}{\\partial z^2} + \\frac{\\partial \\alpha}{\\partial z} \\frac{\\partial T}{\\partial z}\n",
    "\\end{equation}\n",
    "\n",
    "\n",
    "The thermal diffusivity $\\alpha$ changes over time and space. The upper temperature measured at the top of the lysimeter is consider as the boundary condition (Dirichlet). The heat flux at the lower boundary is calculated by adding the measured heat flux at 940 mm depth, and the energy stored in the soil layer between 850 mm and 940 mm:\n",
    "\n",
    "\\begin{equation}\n",
    "    \\Delta S = \\int_{z=850}^{z=940} C \\frac{\\partial T}{\\partial t} \\, dz + \\int_{z=850}^{z=940} T \\frac{\\partial C}{\\partial t} \\, dz\n",
    "\\end{equation}\n",
    "\n",
    "As the hydrological regime of the soil is fluctuating throughout the field-testing period, a relationship between the volumetric water content ($\\theta$) and the thermal property in question is needed:\n",
    "\n",
    "\\begin{equation}\n",
    "\\alpha_{\\text{sand}} = 0.25 + \\frac{0.64}{1 + e^{-1.72(\\theta - 6.01)}}\n",
    "\\end{equation}\n",
    "\n",
    "\\begin{equation}\n",
    "\\alpha_{\\text{topsoil}} = 0.23 + \\frac{0.25}{1 + e^{-0.78(\\theta - 11.3)}}\n",
    "\\end{equation}\n",
    "\n",
    "\\begin{equation}\n",
    "C_{\\text{sand}} = 296.4 + \\frac{52.7 + 8.32(\\theta - 5.27)}{1 + e^{-3.24(\\theta - 5.27)}}\n",
    "\\end{equation}"
   ]
  },
  {
   "cell_type": "markdown",
   "metadata": {},
   "source": [
    "## PINN Model"
   ]
  },
  {
   "cell_type": "code",
   "execution_count": 2,
   "metadata": {},
   "outputs": [],
   "source": [
    "class PINN(nn.Module):\n",
    "    def __init__(self, num_hidden_layers=4, num_neurons=64):\n",
    "        super(PINN, self).__init__()\n",
    "        \n",
    "        # Input layer: (t, z, theta) -> hidden\n",
    "        self.input_layer = nn.Linear(3, num_neurons)\n",
    "        \n",
    "        # Hidden layers\n",
    "        self.hidden_layers = nn.ModuleList(\n",
    "            [nn.Linear(num_neurons, num_neurons) for _ in range(num_hidden_layers)]\n",
    "        )\n",
    "        \n",
    "        # Output layer: hidden -> T\n",
    "        self.output_layer = nn.Linear(num_neurons, 1)\n",
    "        \n",
    "        # Activation\n",
    "        self.activation = nn.Tanh()\n",
    "        \n",
    "        # Initialize weights\n",
    "        self._init_weights()\n",
    "\n",
    "    def _init_weights(self):\n",
    "        for m in self.modules():\n",
    "            if isinstance(m, nn.Linear):\n",
    "                nn.init.xavier_normal_(m.weight)\n",
    "                nn.init.zeros_(m.bias)\n",
    "\n",
    "    def forward(self, t, z, theta):\n",
    "        # Concatenate inputs\n",
    "        x = torch.cat([t, z, theta], dim=1)  # shape: (batch_size, 3)\n",
    "        \n",
    "        # Forward pass\n",
    "        x = self.input_layer(x)\n",
    "        x = self.activation(x)\n",
    "        for hl in self.hidden_layers:\n",
    "            x = hl(x)\n",
    "            x = self.activation(x)\n",
    "        x = self.output_layer(x)\n",
    "        \n",
    "        return x  # shape: (batch_size, 1)"
   ]
  },
  {
   "cell_type": "code",
   "execution_count": null,
   "metadata": {},
   "outputs": [],
   "source": []
  }
 ],
 "metadata": {
  "kernelspec": {
   "display_name": "base",
   "language": "python",
   "name": "python3"
  },
  "language_info": {
   "codemirror_mode": {
    "name": "ipython",
    "version": 3
   },
   "file_extension": ".py",
   "mimetype": "text/x-python",
   "name": "python",
   "nbconvert_exporter": "python",
   "pygments_lexer": "ipython3",
   "version": "3.11.5"
  }
 },
 "nbformat": 4,
 "nbformat_minor": 2
}
