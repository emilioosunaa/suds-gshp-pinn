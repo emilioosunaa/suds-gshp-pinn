{
 "cells": [
  {
   "cell_type": "markdown",
   "metadata": {},
   "source": [
    "## **Surrogate modelling to design a digital twin for ground source heat exchangers**\n",
    "\n",
    "Author: Emilio Osuna"
   ]
  },
  {
   "cell_type": "markdown",
   "metadata": {},
   "source": [
    "Data exploration is done in `data_exploration.ipynb`"
   ]
  },
  {
   "cell_type": "code",
   "execution_count": null,
   "metadata": {},
   "outputs": [],
   "source": [
    "import torch\n",
    "import torch.nn as nn\n",
    "import numpy as np\n",
    "import pandas as pd\n",
    "import matplotlib.pyplot as plt\n",
    "from src import heat_transfer_pinn"
   ]
  },
  {
   "cell_type": "code",
   "execution_count": null,
   "metadata": {},
   "outputs": [],
   "source": [
    "if torch.cuda.is_available():\n",
    "    print(\"CUDA is available!\")\n",
    "    print(\"Number of GPUs:\", torch.cuda.device_count())\n",
    "    print(\"Current GPU:\", torch.cuda.get_device_name(torch.cuda.current_device()))\n",
    "else:\n",
    "    print(\"CUDA is not available.\")"
   ]
  },
  {
   "cell_type": "markdown",
   "metadata": {},
   "source": [
    "The purpose of this notebook is to perform the simulations of a surrogate model based on [Yildiz & Stirling, 2022](https://doi.org/10.1016/j.geothermics.2022.102351), where a finite difference model is used to predict soil temperature.\n",
    "\n",
    "The governing PDE model is a transient heat conduction equation:\n",
    "\n",
    "\\begin{equation}\n",
    "    \\frac{\\partial T}{\\partial t} = \\alpha \\frac{\\partial^2 T}{\\partial z^2} + \\frac{\\partial \\alpha}{\\partial z} \\frac{\\partial T}{\\partial z}\n",
    "\\end{equation}\n",
    "\n",
    "\n",
    "The thermal diffusivity $\\alpha$ changes over time and space. The upper temperature measured at the top of the lysimeter is consider as the boundary condition (Dirichlet). The heat flux at the lower boundary is calculated by adding the measured heat flux at 940 mm depth, and the energy stored in the soil layer between 850 mm and 940 mm:\n",
    "\n",
    "\\begin{equation}\n",
    "    \\Delta S = \\int_{z=850}^{z=940} C \\frac{\\partial T}{\\partial t} \\, dz + \\int_{z=850}^{z=940} T \\frac{\\partial C}{\\partial t} \\, dz\n",
    "\\end{equation}\n",
    "\n",
    "As the hydrological regime of the soil is fluctuating throughout the field-testing period, a relationship between the volumetric water content ($\\theta$) and the thermal property in question is needed:\n",
    "\n",
    "\\begin{equation}\n",
    "\\alpha_{\\text{sand}} = 0.25 + \\frac{0.64}{1 + e^{-1.72(\\theta - 6.01)}}\n",
    "\\end{equation}\n",
    "\n",
    "\\begin{equation}\n",
    "\\alpha_{\\text{topsoil}} = 0.23 + \\frac{0.25}{1 + e^{-0.78(\\theta - 11.3)}}\n",
    "\\end{equation}\n",
    "\n",
    "\\begin{equation}\n",
    "C_{\\text{sand}} = 296.4 + \\frac{52.7 + 8.32(\\theta - 5.27)}{1 + e^{-3.24(\\theta - 5.27)}}\n",
    "\\end{equation}"
   ]
  },
  {
   "cell_type": "markdown",
   "metadata": {},
   "source": [
    "## PINN Model\n",
    "\n",
    "The model is trained in and save for testing in `heat_transfer_pinn.py`."
   ]
  },
  {
   "cell_type": "code",
   "execution_count": null,
   "metadata": {},
   "outputs": [],
   "source": [
    "df = pd.read_csv(\"data/processed/merged_data_interpolated.csv\", parse_dates=[\"Time\"])\n",
    "df[\"time_s\"] = (df[\"Time\"] - df[\"Time\"].min()).dt.total_seconds()\n",
    "df[\"z_m\"] = df[\"Height\"] / 1000.0\n",
    "\n",
    "t_data = torch.tensor(df[\"time_s\"].values, dtype=torch.float32).reshape(-1,1)\n",
    "z_data = torch.tensor(df[\"z_m\"].values, dtype=torch.float32).reshape(-1,1)\n",
    "theta_data = torch.tensor(df[\"VWC\"].values, dtype=torch.float32).reshape(-1,1)\n",
    "\n",
    "t_mean, t_std = t_data.mean(), t_data.std()\n",
    "z_mean, z_std = z_data.mean(), z_data.std()\n",
    "theta_mean, theta_std = theta_data.mean(), theta_data.std()\n",
    "\n",
    "df_test = pd.read_csv(\"data/processed/test_data.csv\", parse_dates=[\"Time\"])\n",
    "df_test[\"time_s\"] = (df_test[\"Time\"] - df_test[\"Time\"].min()).dt.total_seconds()\n",
    "df_test[\"z_m\"] = df_test[\"Height\"] / 1000.0\n",
    "\n",
    "t_data_test = torch.tensor(df_test[\"time_s\"].values, dtype=torch.float32).reshape(-1,1)\n",
    "z_data_test = torch.tensor(df_test[\"z_m\"].values, dtype=torch.float32).reshape(-1,1)\n",
    "theta_data_test = torch.tensor(df_test[\"VWC\"].values, dtype=torch.float32).reshape(-1,1)\n",
    "T_measured_data_test = torch.tensor(df_test[\"SoilTemp\"].values, dtype=torch.float32).reshape(-1,1)\n",
    "\n",
    "model_test = heat_transfer_pinn.PINN(num_hidden_layers=4, num_neurons=64,\n",
    "                                    t_mean=t_mean, t_std=t_std,\n",
    "                                    z_mean=z_mean, z_std=z_std,\n",
    "                                    theta_mean=theta_mean, theta_std=theta_std)\n",
    "model_test.load_state_dict(torch.load(\"pinn_model.pth\"))\n",
    "model_test.eval() "
   ]
  },
  {
   "cell_type": "code",
   "execution_count": null,
   "metadata": {},
   "outputs": [],
   "source": [
    "with torch.no_grad():\n",
    "    T_pred_all = model_test(t_data_test, z_data_test, theta_data_test).squeeze().cpu().numpy()\n",
    "    T_measured_all = T_measured_data_test.squeeze().cpu().numpy()\n",
    "    t_all = t_data_test.squeeze().cpu().numpy()\n",
    "\n",
    "# Downsample data to avoid overplotting\n",
    "num_points = 1000  # Adjust based on how much detail you want\n",
    "indices = np.linspace(0, len(t_all) - 1, num_points, dtype=int)\n",
    "\n",
    "t_sampled = t_all[indices]\n",
    "T_pred_sampled = T_pred_all[indices]\n",
    "T_measured_sampled = T_measured_all[indices]\n",
    "\n",
    "\n",
    "# -----------------------------\n",
    "# Improved Time Series Plot\n",
    "# -----------------------------\n",
    "plt.figure(figsize=(12, 6))\n",
    "\n",
    "# Plot the original raw data with transparency\n",
    "plt.scatter(t_sampled, T_measured_sampled, color='blue', alpha=0.3, s=5, label='Measured (Sampled)')\n",
    "plt.scatter(t_sampled, T_pred_sampled, color='red', alpha=0.3, s=5, label='Predicted (Sampled)')\n",
    "\n",
    "plt.xlabel(\"Time (s)\")\n",
    "plt.ylabel(\"Soil Temperature (°C)\")\n",
    "plt.title(\"Soil Temperature vs. Time\")\n",
    "plt.legend()\n",
    "plt.grid(True)\n",
    "plt.show()"
   ]
  },
  {
   "cell_type": "code",
   "execution_count": null,
   "metadata": {},
   "outputs": [],
   "source": [
    "plt.figure(figsize=(10, 6))\n",
    "plt.plot(t_sampled, T_measured_sampled, 'b-', label='Measured Temperature')\n",
    "plt.plot(t_sampled, T_pred_sampled, 'r--', label='Predicted Temperature')\n",
    "plt.xlabel(\"Time (s)\")\n",
    "plt.ylabel(\"Soil Temperature (°C)\")\n",
    "plt.title(\"Soil Temperature vs. Time\")\n",
    "plt.legend()\n",
    "plt.grid(True)\n",
    "plt.show()"
   ]
  },
  {
   "cell_type": "code",
   "execution_count": null,
   "metadata": {},
   "outputs": [],
   "source": []
  }
 ],
 "metadata": {
  "kernelspec": {
   "display_name": "myenv",
   "language": "python",
   "name": "python3"
  },
  "language_info": {
   "codemirror_mode": {
    "name": "ipython",
    "version": 3
   },
   "file_extension": ".py",
   "mimetype": "text/x-python",
   "name": "python",
   "nbconvert_exporter": "python",
   "pygments_lexer": "ipython3",
   "version": "3.11.5"
  }
 },
 "nbformat": 4,
 "nbformat_minor": 2
}
