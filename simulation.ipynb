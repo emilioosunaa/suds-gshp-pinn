{
 "cells": [
  {
   "cell_type": "markdown",
   "metadata": {},
   "source": [
    "## **Surrogate modelling to design a digital twin for ground source heat exchangers**\n",
    "\n",
    "Author: Emilio Osuna"
   ]
  },
  {
   "cell_type": "markdown",
   "metadata": {},
   "source": [
    "Data exploration is done in `data_exploration.ipynb`"
   ]
  },
  {
   "cell_type": "code",
   "execution_count": 1,
   "metadata": {},
   "outputs": [],
   "source": [
    "import torch\n",
    "import torch.nn as nn\n",
    "import numpy as np\n",
    "import pandas as pd\n",
    "import matplotlib.pyplot as plt\n",
    "from src import heat_transfer_pinn"
   ]
  },
  {
   "cell_type": "markdown",
   "metadata": {},
   "source": [
    "The purpose of this notebook is to perform the simulations of a surrogate model based on [Yildiz & Stirling, 2022](https://doi.org/10.1016/j.geothermics.2022.102351), where a finite difference model is used to predict soil temperature.\n",
    "\n",
    "The governing PDE model is a transient heat conduction equation:\n",
    "\n",
    "\\begin{equation}\n",
    "    \\frac{\\partial T}{\\partial t} = \\alpha \\frac{\\partial^2 T}{\\partial z^2} + \\frac{\\partial \\alpha}{\\partial z} \\frac{\\partial T}{\\partial z}\n",
    "\\end{equation}\n",
    "\n",
    "\n",
    "The thermal diffusivity $\\alpha$ changes over time and space. The upper temperature measured at the top of the lysimeter is consider as the boundary condition (Dirichlet). The heat flux at the lower boundary is calculated by adding the measured heat flux at 940 mm depth, and the energy stored in the soil layer between 850 mm and 940 mm:\n",
    "\n",
    "\\begin{equation}\n",
    "    \\Delta S = \\int_{z=850}^{z=940} C \\frac{\\partial T}{\\partial t} \\, dz + \\int_{z=850}^{z=940} T \\frac{\\partial C}{\\partial t} \\, dz\n",
    "\\end{equation}\n",
    "\n",
    "As the hydrological regime of the soil is fluctuating throughout the field-testing period, a relationship between the volumetric water content ($\\theta$) and the thermal property in question is needed:\n",
    "\n",
    "\\begin{equation}\n",
    "\\alpha_{\\text{sand}} = 0.25 + \\frac{0.64}{1 + e^{-1.72(\\theta - 6.01)}}\n",
    "\\end{equation}\n",
    "\n",
    "\\begin{equation}\n",
    "\\alpha_{\\text{topsoil}} = 0.23 + \\frac{0.25}{1 + e^{-0.78(\\theta - 11.3)}}\n",
    "\\end{equation}\n",
    "\n",
    "\\begin{equation}\n",
    "C_{\\text{sand}} = 296.4 + \\frac{52.7 + 8.32(\\theta - 5.27)}{1 + e^{-3.24(\\theta - 5.27)}}\n",
    "\\end{equation}"
   ]
  },
  {
   "cell_type": "markdown",
   "metadata": {},
   "source": [
    "## PINN Model\n",
    "\n",
    "The model is trained in and save for testing in `heat_transfer_pinn.py`."
   ]
  },
  {
   "cell_type": "code",
   "execution_count": 3,
   "metadata": {},
   "outputs": [],
   "source": [
    "df = pd.read_csv(\"data/processed/merged_data_interpolated.csv\", parse_dates=[\"Time\"])\n",
    "df[\"time_s\"] = (df[\"Time\"] - df[\"Time\"].min()).dt.total_seconds()\n",
    "df[\"z_m\"] = df[\"Height\"] / 1000.0\n",
    "\n",
    "t_data = torch.tensor(df[\"time_s\"].values, dtype=torch.float32).reshape(-1,1)\n",
    "z_data = torch.tensor(df[\"z_m\"].values, dtype=torch.float32).reshape(-1,1)\n",
    "theta_data = torch.tensor(df[\"VWC\"].values, dtype=torch.float32).reshape(-1,1)\n",
    "T_measured_data = torch.tensor(df[\"SoilTemp\"].values, dtype=torch.float32).reshape(-1,1)"
   ]
  },
  {
   "cell_type": "code",
   "execution_count": 4,
   "metadata": {},
   "outputs": [
    {
     "name": "stderr",
     "output_type": "stream",
     "text": [
      "C:\\Users\\emili\\AppData\\Local\\Temp\\ipykernel_18144\\2063802081.py:5: UserWarning: std(): degrees of freedom is <= 0. Correction should be strictly less than the reduction factor (input numel divided by output numel). (Triggered internally at C:\\actions-runner\\_work\\pytorch\\pytorch\\pytorch\\aten\\src\\ATen\\native\\ReduceOps.cpp:1831.)\n",
      "  t_mean, t_std = t_test.mean(), t_test.std()\n",
      "C:\\Users\\emili\\AppData\\Local\\Temp\\ipykernel_18144\\2063802081.py:6: UserWarning: std(): degrees of freedom is <= 0. Correction should be strictly less than the reduction factor (input numel divided by output numel). (Triggered internally at C:\\actions-runner\\_work\\pytorch\\pytorch\\pytorch\\aten\\src\\ATen\\native\\ReduceOps.cpp:1831.)\n",
      "  z_mean, z_std = z_test.mean(), z_test.std()\n",
      "C:\\Users\\emili\\AppData\\Local\\Temp\\ipykernel_18144\\2063802081.py:7: UserWarning: std(): degrees of freedom is <= 0. Correction should be strictly less than the reduction factor (input numel divided by output numel). (Triggered internally at C:\\actions-runner\\_work\\pytorch\\pytorch\\pytorch\\aten\\src\\ATen\\native\\ReduceOps.cpp:1831.)\n",
      "  theta_mean, theta_std = theta_test.mean(), theta_test.std()\n"
     ]
    },
    {
     "ename": "NameError",
     "evalue": "name 't_mean' is not defined",
     "output_type": "error",
     "traceback": [
      "\u001b[1;31m---------------------------------------------------------------------------\u001b[0m",
      "\u001b[1;31mNameError\u001b[0m                                 Traceback (most recent call last)",
      "Cell \u001b[1;32mIn[4], line 11\u001b[0m\n\u001b[0;32m      9\u001b[0m \u001b[38;5;66;03m# Run inference with the test inputs.\u001b[39;00m\n\u001b[0;32m     10\u001b[0m \u001b[38;5;28;01mwith\u001b[39;00m torch\u001b[38;5;241m.\u001b[39mno_grad():\n\u001b[1;32m---> 11\u001b[0m     T_test \u001b[38;5;241m=\u001b[39m \u001b[43mmodel_test\u001b[49m\u001b[43m(\u001b[49m\u001b[43mt_test\u001b[49m\u001b[43m,\u001b[49m\u001b[43m \u001b[49m\u001b[43mz_test\u001b[49m\u001b[43m,\u001b[49m\u001b[43m \u001b[49m\u001b[43mtheta_test\u001b[49m\u001b[43m)\u001b[49m\n\u001b[0;32m     12\u001b[0m     \u001b[38;5;28mprint\u001b[39m(\u001b[38;5;124mf\u001b[39m\u001b[38;5;124m\"\u001b[39m\u001b[38;5;124mTest Prediction at t=\u001b[39m\u001b[38;5;132;01m{\u001b[39;00mt_test\u001b[38;5;241m.\u001b[39mitem()\u001b[38;5;132;01m:\u001b[39;00m\u001b[38;5;124m.2f\u001b[39m\u001b[38;5;132;01m}\u001b[39;00m\u001b[38;5;124m s, z=\u001b[39m\u001b[38;5;132;01m{\u001b[39;00mz_test\u001b[38;5;241m.\u001b[39mitem()\u001b[38;5;132;01m:\u001b[39;00m\u001b[38;5;124m.2f\u001b[39m\u001b[38;5;132;01m}\u001b[39;00m\u001b[38;5;124m m, theta=\u001b[39m\u001b[38;5;132;01m{\u001b[39;00mtheta_test\u001b[38;5;241m.\u001b[39mitem()\u001b[38;5;132;01m:\u001b[39;00m\u001b[38;5;124m.2f\u001b[39m\u001b[38;5;132;01m}\u001b[39;00m\u001b[38;5;124m: T = \u001b[39m\u001b[38;5;132;01m{\u001b[39;00mT_test\u001b[38;5;241m.\u001b[39mitem()\u001b[38;5;132;01m:\u001b[39;00m\u001b[38;5;124m.4f\u001b[39m\u001b[38;5;132;01m}\u001b[39;00m\u001b[38;5;124m\"\u001b[39m)\n",
      "File \u001b[1;32mc:\\Users\\emili\\OneDrive\\Simulation Science\\CF4DT\\suds-gshp-pinn\\myenv\\Lib\\site-packages\\torch\\nn\\modules\\module.py:1739\u001b[0m, in \u001b[0;36mModule._wrapped_call_impl\u001b[1;34m(self, *args, **kwargs)\u001b[0m\n\u001b[0;32m   1737\u001b[0m     \u001b[38;5;28;01mreturn\u001b[39;00m \u001b[38;5;28mself\u001b[39m\u001b[38;5;241m.\u001b[39m_compiled_call_impl(\u001b[38;5;241m*\u001b[39margs, \u001b[38;5;241m*\u001b[39m\u001b[38;5;241m*\u001b[39mkwargs)  \u001b[38;5;66;03m# type: ignore[misc]\u001b[39;00m\n\u001b[0;32m   1738\u001b[0m \u001b[38;5;28;01melse\u001b[39;00m:\n\u001b[1;32m-> 1739\u001b[0m     \u001b[38;5;28;01mreturn\u001b[39;00m \u001b[38;5;28;43mself\u001b[39;49m\u001b[38;5;241;43m.\u001b[39;49m\u001b[43m_call_impl\u001b[49m\u001b[43m(\u001b[49m\u001b[38;5;241;43m*\u001b[39;49m\u001b[43margs\u001b[49m\u001b[43m,\u001b[49m\u001b[43m \u001b[49m\u001b[38;5;241;43m*\u001b[39;49m\u001b[38;5;241;43m*\u001b[39;49m\u001b[43mkwargs\u001b[49m\u001b[43m)\u001b[49m\n",
      "File \u001b[1;32mc:\\Users\\emili\\OneDrive\\Simulation Science\\CF4DT\\suds-gshp-pinn\\myenv\\Lib\\site-packages\\torch\\nn\\modules\\module.py:1750\u001b[0m, in \u001b[0;36mModule._call_impl\u001b[1;34m(self, *args, **kwargs)\u001b[0m\n\u001b[0;32m   1745\u001b[0m \u001b[38;5;66;03m# If we don't have any hooks, we want to skip the rest of the logic in\u001b[39;00m\n\u001b[0;32m   1746\u001b[0m \u001b[38;5;66;03m# this function, and just call forward.\u001b[39;00m\n\u001b[0;32m   1747\u001b[0m \u001b[38;5;28;01mif\u001b[39;00m \u001b[38;5;129;01mnot\u001b[39;00m (\u001b[38;5;28mself\u001b[39m\u001b[38;5;241m.\u001b[39m_backward_hooks \u001b[38;5;129;01mor\u001b[39;00m \u001b[38;5;28mself\u001b[39m\u001b[38;5;241m.\u001b[39m_backward_pre_hooks \u001b[38;5;129;01mor\u001b[39;00m \u001b[38;5;28mself\u001b[39m\u001b[38;5;241m.\u001b[39m_forward_hooks \u001b[38;5;129;01mor\u001b[39;00m \u001b[38;5;28mself\u001b[39m\u001b[38;5;241m.\u001b[39m_forward_pre_hooks\n\u001b[0;32m   1748\u001b[0m         \u001b[38;5;129;01mor\u001b[39;00m _global_backward_pre_hooks \u001b[38;5;129;01mor\u001b[39;00m _global_backward_hooks\n\u001b[0;32m   1749\u001b[0m         \u001b[38;5;129;01mor\u001b[39;00m _global_forward_hooks \u001b[38;5;129;01mor\u001b[39;00m _global_forward_pre_hooks):\n\u001b[1;32m-> 1750\u001b[0m     \u001b[38;5;28;01mreturn\u001b[39;00m \u001b[43mforward_call\u001b[49m\u001b[43m(\u001b[49m\u001b[38;5;241;43m*\u001b[39;49m\u001b[43margs\u001b[49m\u001b[43m,\u001b[49m\u001b[43m \u001b[49m\u001b[38;5;241;43m*\u001b[39;49m\u001b[38;5;241;43m*\u001b[39;49m\u001b[43mkwargs\u001b[49m\u001b[43m)\u001b[49m\n\u001b[0;32m   1752\u001b[0m result \u001b[38;5;241m=\u001b[39m \u001b[38;5;28;01mNone\u001b[39;00m\n\u001b[0;32m   1753\u001b[0m called_always_called_hooks \u001b[38;5;241m=\u001b[39m \u001b[38;5;28mset\u001b[39m()\n",
      "File \u001b[1;32mc:\\Users\\emili\\OneDrive\\Simulation Science\\CF4DT\\suds-gshp-pinn\\src\\heat_transfer_pinn.py:37\u001b[0m, in \u001b[0;36mPINN.forward\u001b[1;34m(self, t, z, theta)\u001b[0m\n\u001b[0;32m     35\u001b[0m \u001b[38;5;28;01mdef\u001b[39;00m\u001b[38;5;250m \u001b[39m\u001b[38;5;21mforward\u001b[39m(\u001b[38;5;28mself\u001b[39m, t, z, theta):\n\u001b[0;32m     36\u001b[0m     \u001b[38;5;66;03m# Normalize inputs\u001b[39;00m\n\u001b[1;32m---> 37\u001b[0m     t_norm \u001b[38;5;241m=\u001b[39m normalize(t, \u001b[43mt_mean\u001b[49m, t_std)\n\u001b[0;32m     38\u001b[0m     z_norm \u001b[38;5;241m=\u001b[39m normalize(z, z_mean, z_std)\n\u001b[0;32m     39\u001b[0m     theta_norm \u001b[38;5;241m=\u001b[39m normalize(theta, theta_mean, theta_std)\n",
      "\u001b[1;31mNameError\u001b[0m: name 't_mean' is not defined"
     ]
    }
   ],
   "source": [
    "t_test = torch.tensor([[df[\"time_s\"].min() + 1000]], dtype=torch.float32)  # e.g., 1000 seconds after the start\n",
    "z_test = torch.tensor([[0.5]], dtype=torch.float32)  # e.g., depth 0.5 m\n",
    "theta_test = torch.tensor([[8.0]], dtype=torch.float32)  # for example, 8% VWC\n",
    "\n",
    "t_mean, t_std = t_test.mean(), t_test.std()\n",
    "z_mean, z_std = z_test.mean(), z_test.std()\n",
    "theta_mean, theta_std = theta_test.mean(), theta_test.std()\n",
    "\n",
    "model_test = heat_transfer_pinn.PINN(num_hidden_layers=4, num_neurons=64,\n",
    "                                    t_mean=t_mean, t_std=t_std,\n",
    "                                    z_mean=z_mean, z_std=z_std,\n",
    "                                    theta_mean=theta_mean, theta_std=theta_std)\n",
    "model_test.load_state_dict(torch.load(\"pinn_model.pth\"))\n",
    "model_test.eval() \n",
    "\n",
    "# Run inference with the test inputs.\n",
    "with torch.no_grad():\n",
    "    T_test = model_test(t_test, z_test, theta_test)\n",
    "    print(f\"Test Prediction at t={t_test.item():.2f} s, z={z_test.item():.2f} m, theta={theta_test.item():.2f}: T = {T_test.item():.4f}\")"
   ]
  },
  {
   "cell_type": "code",
   "execution_count": null,
   "metadata": {},
   "outputs": [],
   "source": [
    "with torch.no_grad():\n",
    "    T_pred_all = model_test(t_data, z_data, theta_data)\n",
    "    # Remove extra dimensions and convert to numpy arrays for plotting.\n",
    "    T_pred_all = T_pred_all.squeeze().cpu().numpy()\n",
    "    T_measured_all = T_measured_data.squeeze().cpu().numpy()\n",
    "\n",
    "# Create a scatter plot comparing measured vs. predicted temperatures.\n",
    "plt.figure(figsize=(8, 6))\n",
    "plt.scatter(T_measured_all, T_pred_all, color='blue', alpha=0.5, label='Data points')\n",
    "\n",
    "# Plot a reference line (ideal prediction) where predicted equals measured.\n",
    "min_T = min(T_measured_all.min(), T_pred_all.min())\n",
    "max_T = max(T_measured_all.max(), T_pred_all.max())\n",
    "plt.plot([min_T, max_T], [min_T, max_T], 'r--', label='Ideal Prediction')\n",
    "\n",
    "plt.xlabel(\"Measured Temperature (°C)\")\n",
    "plt.ylabel(\"Predicted Temperature (°C)\")\n",
    "plt.title(\"Measured vs. Predicted Soil Temperature\")\n",
    "plt.legend()\n",
    "plt.grid(True)\n",
    "plt.show()"
   ]
  },
  {
   "cell_type": "code",
   "execution_count": null,
   "metadata": {},
   "outputs": [],
   "source": []
  }
 ],
 "metadata": {
  "kernelspec": {
   "display_name": "myenv",
   "language": "python",
   "name": "python3"
  },
  "language_info": {
   "codemirror_mode": {
    "name": "ipython",
    "version": 3
   },
   "file_extension": ".py",
   "mimetype": "text/x-python",
   "name": "python",
   "nbconvert_exporter": "python",
   "pygments_lexer": "ipython3",
   "version": "3.11.5"
  }
 },
 "nbformat": 4,
 "nbformat_minor": 2
}
